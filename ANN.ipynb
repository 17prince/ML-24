{
  "nbformat": 4,
  "nbformat_minor": 0,
  "metadata": {
    "colab": {
      "provenance": [],
      "include_colab_link": true
    },
    "kernelspec": {
      "name": "python3",
      "display_name": "Python 3"
    },
    "language_info": {
      "name": "python"
    }
  },
  "cells": [
    {
      "cell_type": "markdown",
      "metadata": {
        "id": "view-in-github",
        "colab_type": "text"
      },
      "source": [
        "<a href=\"https://colab.research.google.com/github/17prince/ML-24/blob/main/ANN.ipynb\" target=\"_parent\"><img src=\"https://colab.research.google.com/assets/colab-badge.svg\" alt=\"Open In Colab\"/></a>"
      ]
    },
    {
      "cell_type": "code",
      "source": [
        "from keras.datasets import mnist\n",
        "(train_images, train_labels), (test_images, test_labels) = mnist.load_data()\n"
      ],
      "metadata": {
        "colab": {
          "base_uri": "https://localhost:8080/"
        },
        "id": "5G0IQsRAk8sW",
        "outputId": "57b5b8ec-9629-4e4c-a199-57b9a16ae032"
      },
      "execution_count": 1,
      "outputs": [
        {
          "output_type": "stream",
          "name": "stdout",
          "text": [
            "Downloading data from https://storage.googleapis.com/tensorflow/tf-keras-datasets/mnist.npz\n",
            "11490434/11490434 [==============================] - 0s 0us/step\n"
          ]
        }
      ]
    },
    {
      "cell_type": "markdown",
      "source": [
        "Training Images"
      ],
      "metadata": {
        "id": "m8Hb5_W4lHtt"
      }
    },
    {
      "cell_type": "code",
      "source": [
        "train_images.shape\n",
        "len(train_labels)\n",
        "train_labels\n",
        "test_images.shape\n",
        "len(test_labels)\n",
        "test_labels\n"
      ],
      "metadata": {
        "colab": {
          "base_uri": "https://localhost:8080/"
        },
        "id": "QH9QiTvolJJl",
        "outputId": "0589d35f-4ca3-44a8-a4ee-93ea41a88eb1"
      },
      "execution_count": 2,
      "outputs": [
        {
          "output_type": "execute_result",
          "data": {
            "text/plain": [
              "array([7, 2, 1, ..., 4, 5, 6], dtype=uint8)"
            ]
          },
          "metadata": {},
          "execution_count": 2
        }
      ]
    },
    {
      "cell_type": "code",
      "source": [
        "from keras import models\n",
        "from keras import layers\n",
        "network = models.Sequential()\n",
        "# Dense(32) is a fully-connected layer with 32 hidden units.\n",
        "# in the first layer, you must specify the expected input data shape :\n",
        "# here, 28 X 28=784 -dimensional vectors.\n",
        "network.add(layers.Dense(32, activation='sigmoid', input_shape=(28 * 28, )))\n",
        "network.add(layers.Dense(8, activation='sigmoid'))\n",
        "network.add(layers.Dense(10, activation='softmax'))\n",
        "network.summary()\n",
        "from google.colab import drive\n",
        "drive.mount('/content/drive')"
      ],
      "metadata": {
        "colab": {
          "base_uri": "https://localhost:8080/"
        },
        "id": "jiaDzWbelQ9t",
        "outputId": "a43921cf-1c45-426a-cd20-cfdfc48766d6"
      },
      "execution_count": 3,
      "outputs": [
        {
          "output_type": "stream",
          "name": "stdout",
          "text": [
            "Model: \"sequential\"\n",
            "_________________________________________________________________\n",
            " Layer (type)                Output Shape              Param #   \n",
            "=================================================================\n",
            " dense (Dense)               (None, 32)                25120     \n",
            "                                                                 \n",
            " dense_1 (Dense)             (None, 8)                 264       \n",
            "                                                                 \n",
            " dense_2 (Dense)             (None, 10)                90        \n",
            "                                                                 \n",
            "=================================================================\n",
            "Total params: 25474 (99.51 KB)\n",
            "Trainable params: 25474 (99.51 KB)\n",
            "Non-trainable params: 0 (0.00 Byte)\n",
            "_________________________________________________________________\n",
            "Mounted at /content/drive\n"
          ]
        }
      ]
    },
    {
      "cell_type": "code",
      "source": [
        "\n",
        "network.compile(optimizer='sgd',\n",
        "                loss='categorical_crossentropy',\n",
        "                metrics=['accuracy'])"
      ],
      "metadata": {
        "id": "i_uapSFRlw23"
      },
      "execution_count": 4,
      "outputs": []
    },
    {
      "cell_type": "code",
      "source": [
        "train_images = train_images.reshape((60000, 28 * 28))\n",
        "train_images = train_images.astype('float32') / 255.\n",
        "test_images = test_images.reshape((10000, 28 * 28))\n",
        "test_images = test_images.astype('float32') / 255."
      ],
      "metadata": {
        "id": "Wdxy5cb1l0g8"
      },
      "execution_count": 5,
      "outputs": []
    },
    {
      "cell_type": "code",
      "source": [
        "from keras.utils import to_categorical\n",
        "train_labels = to_categorical(train_labels)\n",
        "train_labels\n",
        "test_labels = to_categorical(test_labels)\n",
        "test_labels"
      ],
      "metadata": {
        "colab": {
          "base_uri": "https://localhost:8080/"
        },
        "id": "Q2YWe9MUl4w0",
        "outputId": "9a2701b4-3d56-4954-e5b6-cd819985f194"
      },
      "execution_count": 6,
      "outputs": [
        {
          "output_type": "execute_result",
          "data": {
            "text/plain": [
              "array([[0., 0., 0., ..., 1., 0., 0.],\n",
              "       [0., 0., 1., ..., 0., 0., 0.],\n",
              "       [0., 1., 0., ..., 0., 0., 0.],\n",
              "       ...,\n",
              "       [0., 0., 0., ..., 0., 0., 0.],\n",
              "       [0., 0., 0., ..., 0., 0., 0.],\n",
              "       [0., 0., 0., ..., 0., 0., 0.]], dtype=float32)"
            ]
          },
          "metadata": {},
          "execution_count": 6
        }
      ]
    },
    {
      "cell_type": "code",
      "source": [
        "network.fit(train_images, train_labels, epochs=160, batch_size=512)"
      ],
      "metadata": {
        "colab": {
          "base_uri": "https://localhost:8080/"
        },
        "id": "n2dJETWVl_78",
        "outputId": "1ad87d51-a25d-44e8-822c-aefa800bc821"
      },
      "execution_count": 7,
      "outputs": [
        {
          "output_type": "stream",
          "name": "stdout",
          "text": [
            "Epoch 1/160\n",
            "118/118 [==============================] - 1s 5ms/step - loss: 2.3841 - accuracy: 0.0987\n",
            "Epoch 2/160\n",
            "118/118 [==============================] - 1s 7ms/step - loss: 2.3216 - accuracy: 0.0988\n",
            "Epoch 3/160\n",
            "118/118 [==============================] - 1s 6ms/step - loss: 2.2984 - accuracy: 0.1031\n",
            "Epoch 4/160\n",
            "118/118 [==============================] - 1s 6ms/step - loss: 2.2868 - accuracy: 0.1326\n",
            "Epoch 5/160\n",
            "118/118 [==============================] - 1s 7ms/step - loss: 2.2792 - accuracy: 0.2402\n",
            "Epoch 6/160\n",
            "118/118 [==============================] - 1s 7ms/step - loss: 2.2731 - accuracy: 0.2578\n",
            "Epoch 7/160\n",
            "118/118 [==============================] - 1s 6ms/step - loss: 2.2673 - accuracy: 0.2592\n",
            "Epoch 8/160\n",
            "118/118 [==============================] - 1s 5ms/step - loss: 2.2616 - accuracy: 0.2509\n",
            "Epoch 9/160\n",
            "118/118 [==============================] - 1s 4ms/step - loss: 2.2558 - accuracy: 0.2541\n",
            "Epoch 10/160\n",
            "118/118 [==============================] - 1s 5ms/step - loss: 2.2496 - accuracy: 0.2729\n",
            "Epoch 11/160\n",
            "118/118 [==============================] - 1s 4ms/step - loss: 2.2432 - accuracy: 0.2754\n",
            "Epoch 12/160\n",
            "118/118 [==============================] - 1s 5ms/step - loss: 2.2363 - accuracy: 0.2920\n",
            "Epoch 13/160\n",
            "118/118 [==============================] - 1s 4ms/step - loss: 2.2290 - accuracy: 0.3149\n",
            "Epoch 14/160\n",
            "118/118 [==============================] - 1s 5ms/step - loss: 2.2212 - accuracy: 0.3313\n",
            "Epoch 15/160\n",
            "118/118 [==============================] - 1s 4ms/step - loss: 2.2128 - accuracy: 0.3541\n",
            "Epoch 16/160\n",
            "118/118 [==============================] - 1s 4ms/step - loss: 2.2039 - accuracy: 0.3643\n",
            "Epoch 17/160\n",
            "118/118 [==============================] - 1s 4ms/step - loss: 2.1943 - accuracy: 0.3797\n",
            "Epoch 18/160\n",
            "118/118 [==============================] - 1s 5ms/step - loss: 2.1840 - accuracy: 0.3878\n",
            "Epoch 19/160\n",
            "118/118 [==============================] - 1s 4ms/step - loss: 2.1731 - accuracy: 0.4014\n",
            "Epoch 20/160\n",
            "118/118 [==============================] - 1s 4ms/step - loss: 2.1614 - accuracy: 0.4061\n",
            "Epoch 21/160\n",
            "118/118 [==============================] - 1s 4ms/step - loss: 2.1489 - accuracy: 0.4215\n",
            "Epoch 22/160\n",
            "118/118 [==============================] - 1s 4ms/step - loss: 2.1356 - accuracy: 0.4266\n",
            "Epoch 23/160\n",
            "118/118 [==============================] - 1s 4ms/step - loss: 2.1216 - accuracy: 0.4306\n",
            "Epoch 24/160\n",
            "118/118 [==============================] - 1s 4ms/step - loss: 2.1069 - accuracy: 0.4405\n",
            "Epoch 25/160\n",
            "118/118 [==============================] - 1s 5ms/step - loss: 2.0914 - accuracy: 0.4431\n",
            "Epoch 26/160\n",
            "118/118 [==============================] - 1s 6ms/step - loss: 2.0752 - accuracy: 0.4525\n",
            "Epoch 27/160\n",
            "118/118 [==============================] - 1s 7ms/step - loss: 2.0584 - accuracy: 0.4570\n",
            "Epoch 28/160\n",
            "118/118 [==============================] - 1s 7ms/step - loss: 2.0409 - accuracy: 0.4590\n",
            "Epoch 29/160\n",
            "118/118 [==============================] - 1s 7ms/step - loss: 2.0230 - accuracy: 0.4659\n",
            "Epoch 30/160\n",
            "118/118 [==============================] - 1s 7ms/step - loss: 2.0045 - accuracy: 0.4679\n",
            "Epoch 31/160\n",
            "118/118 [==============================] - 1s 7ms/step - loss: 1.9857 - accuracy: 0.4717\n",
            "Epoch 32/160\n",
            "118/118 [==============================] - 1s 4ms/step - loss: 1.9665 - accuracy: 0.4775\n",
            "Epoch 33/160\n",
            "118/118 [==============================] - 1s 5ms/step - loss: 1.9471 - accuracy: 0.4828\n",
            "Epoch 34/160\n",
            "118/118 [==============================] - 1s 5ms/step - loss: 1.9275 - accuracy: 0.4868\n",
            "Epoch 35/160\n",
            "118/118 [==============================] - 1s 5ms/step - loss: 1.9077 - accuracy: 0.4935\n",
            "Epoch 36/160\n",
            "118/118 [==============================] - 1s 4ms/step - loss: 1.8878 - accuracy: 0.4997\n",
            "Epoch 37/160\n",
            "118/118 [==============================] - 1s 5ms/step - loss: 1.8678 - accuracy: 0.5063\n",
            "Epoch 38/160\n",
            "118/118 [==============================] - 1s 5ms/step - loss: 1.8477 - accuracy: 0.5122\n",
            "Epoch 39/160\n",
            "118/118 [==============================] - 1s 4ms/step - loss: 1.8276 - accuracy: 0.5184\n",
            "Epoch 40/160\n",
            "118/118 [==============================] - 1s 4ms/step - loss: 1.8075 - accuracy: 0.5243\n",
            "Epoch 41/160\n",
            "118/118 [==============================] - 1s 8ms/step - loss: 1.7873 - accuracy: 0.5305\n",
            "Epoch 42/160\n",
            "118/118 [==============================] - 1s 5ms/step - loss: 1.7671 - accuracy: 0.5378\n",
            "Epoch 43/160\n",
            "118/118 [==============================] - 1s 8ms/step - loss: 1.7470 - accuracy: 0.5443\n",
            "Epoch 44/160\n",
            "118/118 [==============================] - 1s 5ms/step - loss: 1.7268 - accuracy: 0.5498\n",
            "Epoch 45/160\n",
            "118/118 [==============================] - 1s 4ms/step - loss: 1.7067 - accuracy: 0.5571\n",
            "Epoch 46/160\n",
            "118/118 [==============================] - 1s 5ms/step - loss: 1.6866 - accuracy: 0.5627\n",
            "Epoch 47/160\n",
            "118/118 [==============================] - 1s 4ms/step - loss: 1.6665 - accuracy: 0.5688\n",
            "Epoch 48/160\n",
            "118/118 [==============================] - 1s 6ms/step - loss: 1.6464 - accuracy: 0.5741\n",
            "Epoch 49/160\n",
            "118/118 [==============================] - 1s 7ms/step - loss: 1.6263 - accuracy: 0.5792\n",
            "Epoch 50/160\n",
            "118/118 [==============================] - 1s 7ms/step - loss: 1.6064 - accuracy: 0.5844\n",
            "Epoch 51/160\n",
            "118/118 [==============================] - 1s 7ms/step - loss: 1.5865 - accuracy: 0.5895\n",
            "Epoch 52/160\n",
            "118/118 [==============================] - 1s 7ms/step - loss: 1.5667 - accuracy: 0.5955\n",
            "Epoch 53/160\n",
            "118/118 [==============================] - 1s 7ms/step - loss: 1.5471 - accuracy: 0.5998\n",
            "Epoch 54/160\n",
            "118/118 [==============================] - 1s 4ms/step - loss: 1.5276 - accuracy: 0.6041\n",
            "Epoch 55/160\n",
            "118/118 [==============================] - 1s 4ms/step - loss: 1.5083 - accuracy: 0.6085\n",
            "Epoch 56/160\n",
            "118/118 [==============================] - 1s 4ms/step - loss: 1.4892 - accuracy: 0.6133\n",
            "Epoch 57/160\n",
            "118/118 [==============================] - 1s 4ms/step - loss: 1.4702 - accuracy: 0.6174\n",
            "Epoch 58/160\n",
            "118/118 [==============================] - 0s 4ms/step - loss: 1.4516 - accuracy: 0.6216\n",
            "Epoch 59/160\n",
            "118/118 [==============================] - 1s 4ms/step - loss: 1.4332 - accuracy: 0.6257\n",
            "Epoch 60/160\n",
            "118/118 [==============================] - 1s 4ms/step - loss: 1.4151 - accuracy: 0.6303\n",
            "Epoch 61/160\n",
            "118/118 [==============================] - 1s 5ms/step - loss: 1.3972 - accuracy: 0.6345\n",
            "Epoch 62/160\n",
            "118/118 [==============================] - 1s 4ms/step - loss: 1.3797 - accuracy: 0.6381\n",
            "Epoch 63/160\n",
            "118/118 [==============================] - 1s 5ms/step - loss: 1.3625 - accuracy: 0.6425\n",
            "Epoch 64/160\n",
            "118/118 [==============================] - 1s 4ms/step - loss: 1.3457 - accuracy: 0.6466\n",
            "Epoch 65/160\n",
            "118/118 [==============================] - 1s 5ms/step - loss: 1.3292 - accuracy: 0.6500\n",
            "Epoch 66/160\n",
            "118/118 [==============================] - 1s 4ms/step - loss: 1.3130 - accuracy: 0.6548\n",
            "Epoch 67/160\n",
            "118/118 [==============================] - 1s 5ms/step - loss: 1.2973 - accuracy: 0.6590\n",
            "Epoch 68/160\n",
            "118/118 [==============================] - 1s 4ms/step - loss: 1.2819 - accuracy: 0.6633\n",
            "Epoch 69/160\n",
            "118/118 [==============================] - 1s 5ms/step - loss: 1.2668 - accuracy: 0.6671\n",
            "Epoch 70/160\n",
            "118/118 [==============================] - 1s 5ms/step - loss: 1.2521 - accuracy: 0.6718\n",
            "Epoch 71/160\n",
            "118/118 [==============================] - 1s 5ms/step - loss: 1.2378 - accuracy: 0.6753\n",
            "Epoch 72/160\n",
            "118/118 [==============================] - 1s 5ms/step - loss: 1.2238 - accuracy: 0.6791\n",
            "Epoch 73/160\n",
            "118/118 [==============================] - 1s 7ms/step - loss: 1.2101 - accuracy: 0.6837\n",
            "Epoch 74/160\n",
            "118/118 [==============================] - 1s 6ms/step - loss: 1.1969 - accuracy: 0.6880\n",
            "Epoch 75/160\n",
            "118/118 [==============================] - 1s 7ms/step - loss: 1.1839 - accuracy: 0.6928\n",
            "Epoch 76/160\n",
            "118/118 [==============================] - 1s 7ms/step - loss: 1.1713 - accuracy: 0.6969\n",
            "Epoch 77/160\n",
            "118/118 [==============================] - 1s 7ms/step - loss: 1.1590 - accuracy: 0.7012\n",
            "Epoch 78/160\n",
            "118/118 [==============================] - 1s 6ms/step - loss: 1.1470 - accuracy: 0.7049\n",
            "Epoch 79/160\n",
            "118/118 [==============================] - 0s 4ms/step - loss: 1.1353 - accuracy: 0.7085\n",
            "Epoch 80/160\n",
            "118/118 [==============================] - 1s 4ms/step - loss: 1.1240 - accuracy: 0.7123\n",
            "Epoch 81/160\n",
            "118/118 [==============================] - 1s 4ms/step - loss: 1.1129 - accuracy: 0.7148\n",
            "Epoch 82/160\n",
            "118/118 [==============================] - 1s 5ms/step - loss: 1.1020 - accuracy: 0.7187\n",
            "Epoch 83/160\n",
            "118/118 [==============================] - 1s 4ms/step - loss: 1.0915 - accuracy: 0.7220\n",
            "Epoch 84/160\n",
            "118/118 [==============================] - 1s 5ms/step - loss: 1.0812 - accuracy: 0.7256\n",
            "Epoch 85/160\n",
            "118/118 [==============================] - 1s 4ms/step - loss: 1.0711 - accuracy: 0.7281\n",
            "Epoch 86/160\n",
            "118/118 [==============================] - 1s 5ms/step - loss: 1.0613 - accuracy: 0.7315\n",
            "Epoch 87/160\n",
            "118/118 [==============================] - 1s 4ms/step - loss: 1.0518 - accuracy: 0.7338\n",
            "Epoch 88/160\n",
            "118/118 [==============================] - 1s 5ms/step - loss: 1.0424 - accuracy: 0.7367\n",
            "Epoch 89/160\n",
            "118/118 [==============================] - 1s 4ms/step - loss: 1.0333 - accuracy: 0.7389\n",
            "Epoch 90/160\n",
            "118/118 [==============================] - 0s 4ms/step - loss: 1.0243 - accuracy: 0.7422\n",
            "Epoch 91/160\n",
            "118/118 [==============================] - 1s 4ms/step - loss: 1.0156 - accuracy: 0.7447\n",
            "Epoch 92/160\n",
            "118/118 [==============================] - 1s 4ms/step - loss: 1.0070 - accuracy: 0.7479\n",
            "Epoch 93/160\n",
            "118/118 [==============================] - 1s 4ms/step - loss: 0.9987 - accuracy: 0.7506\n",
            "Epoch 94/160\n",
            "118/118 [==============================] - 1s 4ms/step - loss: 0.9905 - accuracy: 0.7533\n",
            "Epoch 95/160\n",
            "118/118 [==============================] - 1s 4ms/step - loss: 0.9825 - accuracy: 0.7560\n",
            "Epoch 96/160\n",
            "118/118 [==============================] - 1s 4ms/step - loss: 0.9747 - accuracy: 0.7585\n",
            "Epoch 97/160\n",
            "118/118 [==============================] - 1s 5ms/step - loss: 0.9670 - accuracy: 0.7605\n",
            "Epoch 98/160\n",
            "118/118 [==============================] - 1s 6ms/step - loss: 0.9594 - accuracy: 0.7623\n",
            "Epoch 99/160\n",
            "118/118 [==============================] - 1s 7ms/step - loss: 0.9520 - accuracy: 0.7649\n",
            "Epoch 100/160\n",
            "118/118 [==============================] - 1s 7ms/step - loss: 0.9448 - accuracy: 0.7666\n",
            "Epoch 101/160\n",
            "118/118 [==============================] - 1s 6ms/step - loss: 0.9377 - accuracy: 0.7683\n",
            "Epoch 102/160\n",
            "118/118 [==============================] - 1s 7ms/step - loss: 0.9307 - accuracy: 0.7709\n",
            "Epoch 103/160\n",
            "118/118 [==============================] - 1s 6ms/step - loss: 0.9239 - accuracy: 0.7725\n",
            "Epoch 104/160\n",
            "118/118 [==============================] - 1s 4ms/step - loss: 0.9171 - accuracy: 0.7749\n",
            "Epoch 105/160\n",
            "118/118 [==============================] - 1s 5ms/step - loss: 0.9106 - accuracy: 0.7760\n",
            "Epoch 106/160\n",
            "118/118 [==============================] - 1s 5ms/step - loss: 0.9041 - accuracy: 0.7779\n",
            "Epoch 107/160\n",
            "118/118 [==============================] - 1s 5ms/step - loss: 0.8977 - accuracy: 0.7797\n",
            "Epoch 108/160\n",
            "118/118 [==============================] - 1s 5ms/step - loss: 0.8914 - accuracy: 0.7814\n",
            "Epoch 109/160\n",
            "118/118 [==============================] - 1s 4ms/step - loss: 0.8853 - accuracy: 0.7833\n",
            "Epoch 110/160\n",
            "118/118 [==============================] - 1s 4ms/step - loss: 0.8792 - accuracy: 0.7852\n",
            "Epoch 111/160\n",
            "118/118 [==============================] - 1s 4ms/step - loss: 0.8733 - accuracy: 0.7863\n",
            "Epoch 112/160\n",
            "118/118 [==============================] - 1s 4ms/step - loss: 0.8675 - accuracy: 0.7876\n",
            "Epoch 113/160\n",
            "118/118 [==============================] - 1s 4ms/step - loss: 0.8617 - accuracy: 0.7891\n",
            "Epoch 114/160\n",
            "118/118 [==============================] - 1s 5ms/step - loss: 0.8560 - accuracy: 0.7904\n",
            "Epoch 115/160\n",
            "118/118 [==============================] - 1s 4ms/step - loss: 0.8505 - accuracy: 0.7919\n",
            "Epoch 116/160\n",
            "118/118 [==============================] - 1s 4ms/step - loss: 0.8450 - accuracy: 0.7933\n",
            "Epoch 117/160\n",
            "118/118 [==============================] - 0s 4ms/step - loss: 0.8396 - accuracy: 0.7945\n",
            "Epoch 118/160\n",
            "118/118 [==============================] - 1s 4ms/step - loss: 0.8343 - accuracy: 0.7956\n",
            "Epoch 119/160\n",
            "118/118 [==============================] - 0s 4ms/step - loss: 0.8291 - accuracy: 0.7969\n",
            "Epoch 120/160\n",
            "118/118 [==============================] - 1s 4ms/step - loss: 0.8239 - accuracy: 0.7982\n",
            "Epoch 121/160\n",
            "118/118 [==============================] - 1s 4ms/step - loss: 0.8189 - accuracy: 0.7994\n",
            "Epoch 122/160\n",
            "118/118 [==============================] - 1s 5ms/step - loss: 0.8139 - accuracy: 0.8008\n",
            "Epoch 123/160\n",
            "118/118 [==============================] - 1s 7ms/step - loss: 0.8090 - accuracy: 0.8019\n",
            "Epoch 124/160\n",
            "118/118 [==============================] - 1s 6ms/step - loss: 0.8041 - accuracy: 0.8027\n",
            "Epoch 125/160\n",
            "118/118 [==============================] - 1s 7ms/step - loss: 0.7993 - accuracy: 0.8040\n",
            "Epoch 126/160\n",
            "118/118 [==============================] - 1s 7ms/step - loss: 0.7947 - accuracy: 0.8053\n",
            "Epoch 127/160\n",
            "118/118 [==============================] - 1s 7ms/step - loss: 0.7900 - accuracy: 0.8062\n",
            "Epoch 128/160\n",
            "118/118 [==============================] - 1s 6ms/step - loss: 0.7855 - accuracy: 0.8073\n",
            "Epoch 129/160\n",
            "118/118 [==============================] - 1s 4ms/step - loss: 0.7810 - accuracy: 0.8084\n",
            "Epoch 130/160\n",
            "118/118 [==============================] - 0s 4ms/step - loss: 0.7765 - accuracy: 0.8098\n",
            "Epoch 131/160\n",
            "118/118 [==============================] - 1s 4ms/step - loss: 0.7722 - accuracy: 0.8102\n",
            "Epoch 132/160\n",
            "118/118 [==============================] - 1s 4ms/step - loss: 0.7679 - accuracy: 0.8116\n",
            "Epoch 133/160\n",
            "118/118 [==============================] - 1s 4ms/step - loss: 0.7636 - accuracy: 0.8123\n",
            "Epoch 134/160\n",
            "118/118 [==============================] - 1s 4ms/step - loss: 0.7594 - accuracy: 0.8130\n",
            "Epoch 135/160\n",
            "118/118 [==============================] - 1s 4ms/step - loss: 0.7553 - accuracy: 0.8140\n",
            "Epoch 136/160\n",
            "118/118 [==============================] - 0s 4ms/step - loss: 0.7512 - accuracy: 0.8150\n",
            "Epoch 137/160\n",
            "118/118 [==============================] - 1s 4ms/step - loss: 0.7472 - accuracy: 0.8156\n",
            "Epoch 138/160\n",
            "118/118 [==============================] - 0s 4ms/step - loss: 0.7433 - accuracy: 0.8163\n",
            "Epoch 139/160\n",
            "118/118 [==============================] - 1s 4ms/step - loss: 0.7393 - accuracy: 0.8171\n",
            "Epoch 140/160\n",
            "118/118 [==============================] - 1s 4ms/step - loss: 0.7355 - accuracy: 0.8182\n",
            "Epoch 141/160\n",
            "118/118 [==============================] - 1s 4ms/step - loss: 0.7317 - accuracy: 0.8189\n",
            "Epoch 142/160\n",
            "118/118 [==============================] - 1s 4ms/step - loss: 0.7279 - accuracy: 0.8195\n",
            "Epoch 143/160\n",
            "118/118 [==============================] - 1s 4ms/step - loss: 0.7242 - accuracy: 0.8202\n",
            "Epoch 144/160\n",
            "118/118 [==============================] - 1s 4ms/step - loss: 0.7206 - accuracy: 0.8209\n",
            "Epoch 145/160\n",
            "118/118 [==============================] - 1s 4ms/step - loss: 0.7170 - accuracy: 0.8217\n",
            "Epoch 146/160\n",
            "118/118 [==============================] - 1s 5ms/step - loss: 0.7134 - accuracy: 0.8225\n",
            "Epoch 147/160\n",
            "118/118 [==============================] - 1s 5ms/step - loss: 0.7099 - accuracy: 0.8231\n",
            "Epoch 148/160\n",
            "118/118 [==============================] - 1s 7ms/step - loss: 0.7064 - accuracy: 0.8239\n",
            "Epoch 149/160\n",
            "118/118 [==============================] - 1s 6ms/step - loss: 0.7030 - accuracy: 0.8246\n",
            "Epoch 150/160\n",
            "118/118 [==============================] - 1s 7ms/step - loss: 0.6996 - accuracy: 0.8252\n",
            "Epoch 151/160\n",
            "118/118 [==============================] - 1s 7ms/step - loss: 0.6963 - accuracy: 0.8263\n",
            "Epoch 152/160\n",
            "118/118 [==============================] - 1s 7ms/step - loss: 0.6930 - accuracy: 0.8269\n",
            "Epoch 153/160\n",
            "118/118 [==============================] - 1s 6ms/step - loss: 0.6897 - accuracy: 0.8276\n",
            "Epoch 154/160\n",
            "118/118 [==============================] - 1s 4ms/step - loss: 0.6865 - accuracy: 0.8282\n",
            "Epoch 155/160\n",
            "118/118 [==============================] - 1s 4ms/step - loss: 0.6833 - accuracy: 0.8288\n",
            "Epoch 156/160\n",
            "118/118 [==============================] - 1s 4ms/step - loss: 0.6802 - accuracy: 0.8296\n",
            "Epoch 157/160\n",
            "118/118 [==============================] - 1s 4ms/step - loss: 0.6771 - accuracy: 0.8302\n",
            "Epoch 158/160\n",
            "118/118 [==============================] - 1s 4ms/step - loss: 0.6741 - accuracy: 0.8309\n",
            "Epoch 159/160\n",
            "118/118 [==============================] - 1s 4ms/step - loss: 0.6710 - accuracy: 0.8315\n",
            "Epoch 160/160\n",
            "118/118 [==============================] - 1s 4ms/step - loss: 0.6681 - accuracy: 0.8324\n"
          ]
        },
        {
          "output_type": "execute_result",
          "data": {
            "text/plain": [
              "<keras.src.callbacks.History at 0x7c6548236920>"
            ]
          },
          "metadata": {},
          "execution_count": 7
        }
      ]
    },
    {
      "cell_type": "code",
      "source": [
        "\n",
        "test_loss, test_acc = network.evaluate(test_images, test_labels)\n",
        "print('Test Accuracy: {:.5f} '.format(test_acc))\n",
        "test_acc"
      ],
      "metadata": {
        "colab": {
          "base_uri": "https://localhost:8080/"
        },
        "id": "wt2sVeyWmW5Y",
        "outputId": "16546b4c-db75-4707-e078-fa290dc131a2"
      },
      "execution_count": 8,
      "outputs": [
        {
          "output_type": "stream",
          "name": "stdout",
          "text": [
            "313/313 [==============================] - 1s 2ms/step - loss: 0.6577 - accuracy: 0.8398\n",
            "Test Accuracy: 0.83980 \n"
          ]
        },
        {
          "output_type": "execute_result",
          "data": {
            "text/plain": [
              "0.8398000001907349"
            ]
          },
          "metadata": {},
          "execution_count": 8
        }
      ]
    },
    {
      "cell_type": "code",
      "source": [
        "from keras.utils import plot_model\n",
        "plot_model(network, to_file='model.png')\n",
        "import matplotlib.pyplot as plt\n",
        "history =network.fit(train_images, train_labels, validation_split=0.33,epochs=5, batch_size=512)\n",
        "history_dict = history.history\n",
        "print(history_dict.keys())\n",
        "plt.plot(history.history['accuracy'])\n",
        "plt.plot(history.history['val_accuracy'])\n",
        "plt.title('Model accuracy')\n",
        "plt.ylabel('Accuracy')\n",
        "plt.xlabel('Epoch')\n",
        "plt.legend(['Train', 'Test'], loc='upper left')\n",
        "plt.show()\n",
        "\n",
        "\n",
        "# Plot training & validation loss values\n",
        "plt.plot(history.history['loss'])\n",
        "plt.plot(history.history['val_loss'])\n",
        "plt.title('Model loss')\n",
        "plt.ylabel('Loss')\n",
        "plt.xlabel('Epoch')\n",
        "plt.legend(['Train', 'Test'], loc='upper left')\n",
        "plt.show()"
      ],
      "metadata": {
        "colab": {
          "base_uri": "https://localhost:8080/",
          "height": 1000
        },
        "id": "AWrX0WTLmbDv",
        "outputId": "8dc5b20a-da5c-449d-9ba5-0da3fa053dec"
      },
      "execution_count": 9,
      "outputs": [
        {
          "output_type": "stream",
          "name": "stdout",
          "text": [
            "Epoch 1/5\n",
            "79/79 [==============================] - 1s 8ms/step - loss: 0.6709 - accuracy: 0.8308 - val_loss: 0.6537 - val_accuracy: 0.8370\n",
            "Epoch 2/5\n",
            "79/79 [==============================] - 0s 6ms/step - loss: 0.6689 - accuracy: 0.8312 - val_loss: 0.6519 - val_accuracy: 0.8369\n",
            "Epoch 3/5\n",
            "79/79 [==============================] - 1s 6ms/step - loss: 0.6669 - accuracy: 0.8316 - val_loss: 0.6500 - val_accuracy: 0.8373\n",
            "Epoch 4/5\n",
            "79/79 [==============================] - 1s 7ms/step - loss: 0.6650 - accuracy: 0.8322 - val_loss: 0.6482 - val_accuracy: 0.8378\n",
            "Epoch 5/5\n",
            "79/79 [==============================] - 1s 7ms/step - loss: 0.6630 - accuracy: 0.8326 - val_loss: 0.6463 - val_accuracy: 0.8380\n",
            "dict_keys(['loss', 'accuracy', 'val_loss', 'val_accuracy'])\n"
          ]
        },
        {
          "output_type": "display_data",
          "data": {
            "text/plain": [
              "<Figure size 640x480 with 1 Axes>"
            ],
            "image/png": "[encoded data removed]"
          },
          "metadata": {}
        },
        {
          "output_type": "display_data",
          "data": {
            "text/plain": [
              "<Figure size 640x480 with 1 Axes>"
            ],
            "image/png": "[encoded data removed]"
          },
          "metadata": {}
        }
      ]
    }
  ]
}