{
  "nbformat": 4,
  "nbformat_minor": 0,
  "metadata": {
    "colab": {
      "provenance": [],
      "authorship_tag": "ABX9TyNuCQChzHSxPqqm5xMap7pb",
      "include_colab_link": true
    },
    "kernelspec": {
      "name": "python3",
      "display_name": "Python 3"
    },
    "language_info": {
      "name": "python"
    }
  },
  "cells": [
    {
      "cell_type": "markdown",
      "metadata": {
        "id": "view-in-github",
        "colab_type": "text"
      },
      "source": [
        "<a href=\"https://colab.research.google.com/github/17prince/ML-24/blob/main/ANN_CIFAR_100.ipynb\" target=\"_parent\"><img src=\"https://colab.research.google.com/assets/colab-badge.svg\" alt=\"Open In Colab\"/></a>"
      ]
    },
    {
      "cell_type": "markdown",
      "source": [
        "Loading the MNIST dataset in keras\n"
      ],
      "metadata": {
        "id": "pk0ECok6drOc"
      }
    },
    {
      "cell_type": "code",
      "source": [
        "from keras.datasets import mnist\n",
        "(train_images, train_labels), (test_images, test_labels) = mnist.load_data()"
      ],
      "metadata": {
        "id": "Q29TN_P6dGpu"
      },
      "execution_count": 37,
      "outputs": []
    },
    {
      "cell_type": "code",
      "source": [
        "train_images.shape\n",
        "len(train_labels)\n",
        "train_labels\n",
        "test_images.shape\n",
        "len(test_labels)\n",
        "test_labels"
      ],
      "metadata": {
        "colab": {
          "base_uri": "https://localhost:8080/"
        },
        "id": "iu0pUZUgeP7V",
        "outputId": "6ec58677-b355-45f8-b351-b11bb8bc7c14"
      },
      "execution_count": 38,
      "outputs": [
        {
          "output_type": "execute_result",
          "data": {
            "text/plain": [
              "array([7, 2, 1, ..., 4, 5, 6], dtype=uint8)"
            ]
          },
          "metadata": {},
          "execution_count": 38
        }
      ]
    },
    {
      "cell_type": "markdown",
      "source": [
        "The network architecture"
      ],
      "metadata": {
        "id": "S-Z7KI5xfwVr"
      }
    },
    {
      "cell_type": "code",
      "source": [
        "from keras import models\n",
        "from keras import layers\n",
        "network = models.Sequential()\n",
        "# Dense(32) is a fully-connected layer with 32 hidden units.\n",
        "# in the first layer, you must specify the expected input data shape :\n",
        "# here, 28 X 28=784 -dimensional vectors.\n",
        "network.add(layers.Dense(32, activation='sigmoid', input_shape=(28 * 28, )))\n",
        "network.add(layers.Dense(8, activation='sigmoid'))\n",
        "network.add(layers.Dense(10, activation='softmax'))\n",
        "network.summary()\n"
      ],
      "metadata": {
        "colab": {
          "base_uri": "https://localhost:8080/"
        },
        "id": "_tXFUI3Le1Jz",
        "outputId": "67565e62-7c1f-4ade-d695-850f815e2629"
      },
      "execution_count": 40,
      "outputs": [
        {
          "output_type": "stream",
          "name": "stdout",
          "text": [
            "Model: \"sequential_2\"\n",
            "_________________________________________________________________\n",
            " Layer (type)                Output Shape              Param #   \n",
            "=================================================================\n",
            " dense_6 (Dense)             (None, 32)                25120     \n",
            "                                                                 \n",
            " dense_7 (Dense)             (None, 8)                 264       \n",
            "                                                                 \n",
            " dense_8 (Dense)             (None, 10)                90        \n",
            "                                                                 \n",
            "=================================================================\n",
            "Total params: 25474 (99.51 KB)\n",
            "Trainable params: 25474 (99.51 KB)\n",
            "Non-trainable params: 0 (0.00 Byte)\n",
            "_________________________________________________________________\n"
          ]
        }
      ]
    },
    {
      "cell_type": "markdown",
      "source": [
        "The compilation step"
      ],
      "metadata": {
        "id": "vwRlah4ef2XT"
      }
    },
    {
      "cell_type": "code",
      "source": [
        "network.compile(optimizer='sgd',\n",
        "                loss='categorical_crossentropy',\n",
        "                metrics=['accuracy'])"
      ],
      "metadata": {
        "id": "j4rtKeKSfjyT"
      },
      "execution_count": 41,
      "outputs": []
    },
    {
      "cell_type": "markdown",
      "source": [
        "Preparing the image data"
      ],
      "metadata": {
        "id": "KgYbe35mf7bD"
      }
    },
    {
      "cell_type": "code",
      "source": [
        "train_images = train_images.reshape((60000, 28 * 28))\n",
        "train_images = train_images.astype('float32') / 255.\n",
        "test_images = test_images.reshape((10000, 28 * 28))\n",
        "test_images = test_images.astype('float32') / 255."
      ],
      "metadata": {
        "id": "0LwIHz42oi7A"
      },
      "execution_count": 42,
      "outputs": []
    },
    {
      "cell_type": "markdown",
      "source": [
        "Preparing the labels"
      ],
      "metadata": {
        "id": "HV15gWETgJqT"
      }
    },
    {
      "cell_type": "code",
      "source": [
        "from keras.utils import to_categorical\n",
        "train_labels = to_categorical(train_labels)\n",
        "train_labels\n",
        "test_labels = to_categorical(test_labels)\n",
        "test_labels\n"
      ],
      "metadata": {
        "colab": {
          "base_uri": "https://localhost:8080/"
        },
        "id": "C7cSamqnoprH",
        "outputId": "7c18a136-54fb-485a-8ee6-9564ba90bb4d"
      },
      "execution_count": 43,
      "outputs": [
        {
          "output_type": "execute_result",
          "data": {
            "text/plain": [
              "array([[0., 0., 0., ..., 1., 0., 0.],\n",
              "       [0., 0., 1., ..., 0., 0., 0.],\n",
              "       [0., 1., 0., ..., 0., 0., 0.],\n",
              "       ...,\n",
              "       [0., 0., 0., ..., 0., 0., 0.],\n",
              "       [0., 0., 0., ..., 0., 0., 0.],\n",
              "       [0., 0., 0., ..., 0., 0., 0.]], dtype=float32)"
            ]
          },
          "metadata": {},
          "execution_count": 43
        }
      ]
    },
    {
      "cell_type": "markdown",
      "source": [
        "Training and Testing"
      ],
      "metadata": {
        "id": "umjRbx0ahBK7"
      }
    },
    {
      "cell_type": "code",
      "source": [
        "network.fit(train_images, train_labels, epochs=160, batch_size=512)"
      ],
      "metadata": {
        "colab": {
          "base_uri": "https://localhost:8080/"
        },
        "id": "-ZChOAqHg8Qr",
        "outputId": "0a1d6881-15d4-406a-d9ac-0086da4f6f75"
      },
      "execution_count": 44,
      "outputs": [
        {
          "output_type": "stream",
          "name": "stdout",
          "text": [
            "Epoch 1/160\n",
            "118/118 [==============================] - 1s 5ms/step - loss: 2.3732 - accuracy: 0.0975\n",
            "Epoch 2/160\n",
            "118/118 [==============================] - 1s 5ms/step - loss: 2.3161 - accuracy: 0.0975\n",
            "Epoch 3/160\n",
            "118/118 [==============================] - 1s 5ms/step - loss: 2.2944 - accuracy: 0.0975\n",
            "Epoch 4/160\n",
            "118/118 [==============================] - 1s 5ms/step - loss: 2.2823 - accuracy: 0.0978\n",
            "Epoch 5/160\n",
            "118/118 [==============================] - 1s 5ms/step - loss: 2.2733 - accuracy: 0.1619\n",
            "Epoch 6/160\n",
            "118/118 [==============================] - 1s 5ms/step - loss: 2.2652 - accuracy: 0.2915\n",
            "Epoch 7/160\n",
            "118/118 [==============================] - 1s 5ms/step - loss: 2.2573 - accuracy: 0.3385\n",
            "Epoch 8/160\n",
            "118/118 [==============================] - 1s 5ms/step - loss: 2.2492 - accuracy: 0.3551\n",
            "Epoch 9/160\n",
            "118/118 [==============================] - 1s 5ms/step - loss: 2.2408 - accuracy: 0.3605\n",
            "Epoch 10/160\n",
            "118/118 [==============================] - 1s 5ms/step - loss: 2.2318 - accuracy: 0.3648\n",
            "Epoch 11/160\n",
            "118/118 [==============================] - 1s 5ms/step - loss: 2.2223 - accuracy: 0.3761\n",
            "Epoch 12/160\n",
            "118/118 [==============================] - 1s 5ms/step - loss: 2.2122 - accuracy: 0.3856\n",
            "Epoch 13/160\n",
            "118/118 [==============================] - 1s 5ms/step - loss: 2.2014 - accuracy: 0.3928\n",
            "Epoch 14/160\n",
            "118/118 [==============================] - 1s 5ms/step - loss: 2.1897 - accuracy: 0.4061\n",
            "Epoch 15/160\n",
            "118/118 [==============================] - 1s 7ms/step - loss: 2.1772 - accuracy: 0.4146\n",
            "Epoch 16/160\n",
            "118/118 [==============================] - 1s 7ms/step - loss: 2.1639 - accuracy: 0.4193\n",
            "Epoch 17/160\n",
            "118/118 [==============================] - 1s 8ms/step - loss: 2.1495 - accuracy: 0.4251\n",
            "Epoch 18/160\n",
            "118/118 [==============================] - 1s 8ms/step - loss: 2.1342 - accuracy: 0.4342\n",
            "Epoch 19/160\n",
            "118/118 [==============================] - 1s 5ms/step - loss: 2.1178 - accuracy: 0.4408\n",
            "Epoch 20/160\n",
            "118/118 [==============================] - 1s 5ms/step - loss: 2.1004 - accuracy: 0.4442\n",
            "Epoch 21/160\n",
            "118/118 [==============================] - 1s 5ms/step - loss: 2.0819 - accuracy: 0.4517\n",
            "Epoch 22/160\n",
            "118/118 [==============================] - 1s 5ms/step - loss: 2.0624 - accuracy: 0.4547\n",
            "Epoch 23/160\n",
            "118/118 [==============================] - 1s 5ms/step - loss: 2.0420 - accuracy: 0.4585\n",
            "Epoch 24/160\n",
            "118/118 [==============================] - 1s 5ms/step - loss: 2.0205 - accuracy: 0.4623\n",
            "Epoch 25/160\n",
            "118/118 [==============================] - 1s 5ms/step - loss: 1.9983 - accuracy: 0.4654\n",
            "Epoch 26/160\n",
            "118/118 [==============================] - 1s 5ms/step - loss: 1.9752 - accuracy: 0.4697\n",
            "Epoch 27/160\n",
            "118/118 [==============================] - 1s 5ms/step - loss: 1.9514 - accuracy: 0.4724\n",
            "Epoch 28/160\n",
            "118/118 [==============================] - 1s 5ms/step - loss: 1.9269 - accuracy: 0.4762\n",
            "Epoch 29/160\n",
            "118/118 [==============================] - 1s 5ms/step - loss: 1.9021 - accuracy: 0.4793\n",
            "Epoch 30/160\n",
            "118/118 [==============================] - 1s 5ms/step - loss: 1.8768 - accuracy: 0.4838\n",
            "Epoch 31/160\n",
            "118/118 [==============================] - 1s 5ms/step - loss: 1.8514 - accuracy: 0.4864\n",
            "Epoch 32/160\n",
            "118/118 [==============================] - 1s 6ms/step - loss: 1.8259 - accuracy: 0.4905\n",
            "Epoch 33/160\n",
            "118/118 [==============================] - 1s 5ms/step - loss: 1.8003 - accuracy: 0.4941\n",
            "Epoch 34/160\n",
            "118/118 [==============================] - 1s 6ms/step - loss: 1.7750 - accuracy: 0.4975\n",
            "Epoch 35/160\n",
            "118/118 [==============================] - 1s 8ms/step - loss: 1.7498 - accuracy: 0.5009\n",
            "Epoch 36/160\n",
            "118/118 [==============================] - 1s 8ms/step - loss: 1.7251 - accuracy: 0.5046\n",
            "Epoch 37/160\n",
            "118/118 [==============================] - 1s 8ms/step - loss: 1.7007 - accuracy: 0.5090\n",
            "Epoch 38/160\n",
            "118/118 [==============================] - 1s 5ms/step - loss: 1.6769 - accuracy: 0.5133\n",
            "Epoch 39/160\n",
            "118/118 [==============================] - 1s 5ms/step - loss: 1.6535 - accuracy: 0.5160\n",
            "Epoch 40/160\n",
            "118/118 [==============================] - 1s 5ms/step - loss: 1.6308 - accuracy: 0.5203\n",
            "Epoch 41/160\n",
            "118/118 [==============================] - 1s 5ms/step - loss: 1.6086 - accuracy: 0.5237\n",
            "Epoch 42/160\n",
            "118/118 [==============================] - 1s 5ms/step - loss: 1.5871 - accuracy: 0.5279\n",
            "Epoch 43/160\n",
            "118/118 [==============================] - 1s 5ms/step - loss: 1.5661 - accuracy: 0.5319\n",
            "Epoch 44/160\n",
            "118/118 [==============================] - 1s 5ms/step - loss: 1.5458 - accuracy: 0.5356\n",
            "Epoch 45/160\n",
            "118/118 [==============================] - 1s 5ms/step - loss: 1.5261 - accuracy: 0.5395\n",
            "Epoch 46/160\n",
            "118/118 [==============================] - 1s 5ms/step - loss: 1.5069 - accuracy: 0.5430\n",
            "Epoch 47/160\n",
            "118/118 [==============================] - 1s 5ms/step - loss: 1.4883 - accuracy: 0.5470\n",
            "Epoch 48/160\n",
            "118/118 [==============================] - 1s 6ms/step - loss: 1.4703 - accuracy: 0.5526\n",
            "Epoch 49/160\n",
            "118/118 [==============================] - 1s 5ms/step - loss: 1.4527 - accuracy: 0.5573\n",
            "Epoch 50/160\n",
            "118/118 [==============================] - 1s 5ms/step - loss: 1.4358 - accuracy: 0.5604\n",
            "Epoch 51/160\n",
            "118/118 [==============================] - 1s 5ms/step - loss: 1.4192 - accuracy: 0.5659\n",
            "Epoch 52/160\n",
            "118/118 [==============================] - 1s 5ms/step - loss: 1.4032 - accuracy: 0.5701\n",
            "Epoch 53/160\n",
            "118/118 [==============================] - 1s 5ms/step - loss: 1.3875 - accuracy: 0.5755\n",
            "Epoch 54/160\n",
            "118/118 [==============================] - 1s 8ms/step - loss: 1.3723 - accuracy: 0.5797\n",
            "Epoch 55/160\n",
            "118/118 [==============================] - 1s 7ms/step - loss: 1.3575 - accuracy: 0.5854\n",
            "Epoch 56/160\n",
            "118/118 [==============================] - 1s 7ms/step - loss: 1.3431 - accuracy: 0.5907\n",
            "Epoch 57/160\n",
            "118/118 [==============================] - 1s 6ms/step - loss: 1.3290 - accuracy: 0.5954\n",
            "Epoch 58/160\n",
            "118/118 [==============================] - 1s 5ms/step - loss: 1.3153 - accuracy: 0.6002\n",
            "Epoch 59/160\n",
            "118/118 [==============================] - 1s 5ms/step - loss: 1.3019 - accuracy: 0.6061\n",
            "Epoch 60/160\n",
            "118/118 [==============================] - 1s 5ms/step - loss: 1.2887 - accuracy: 0.6108\n",
            "Epoch 61/160\n",
            "118/118 [==============================] - 1s 5ms/step - loss: 1.2759 - accuracy: 0.6162\n",
            "Epoch 62/160\n",
            "118/118 [==============================] - 1s 5ms/step - loss: 1.2634 - accuracy: 0.6210\n",
            "Epoch 63/160\n",
            "118/118 [==============================] - 1s 5ms/step - loss: 1.2511 - accuracy: 0.6259\n",
            "Epoch 64/160\n",
            "118/118 [==============================] - 1s 5ms/step - loss: 1.2391 - accuracy: 0.6309\n",
            "Epoch 65/160\n",
            "118/118 [==============================] - 1s 5ms/step - loss: 1.2273 - accuracy: 0.6355\n",
            "Epoch 66/160\n",
            "118/118 [==============================] - 1s 5ms/step - loss: 1.2158 - accuracy: 0.6404\n",
            "Epoch 67/160\n",
            "118/118 [==============================] - 1s 5ms/step - loss: 1.2045 - accuracy: 0.6445\n",
            "Epoch 68/160\n",
            "118/118 [==============================] - 1s 5ms/step - loss: 1.1934 - accuracy: 0.6492\n",
            "Epoch 69/160\n",
            "118/118 [==============================] - 1s 5ms/step - loss: 1.1825 - accuracy: 0.6535\n",
            "Epoch 70/160\n",
            "118/118 [==============================] - 1s 5ms/step - loss: 1.1717 - accuracy: 0.6585\n",
            "Epoch 71/160\n",
            "118/118 [==============================] - 1s 5ms/step - loss: 1.1612 - accuracy: 0.6611\n",
            "Epoch 72/160\n",
            "118/118 [==============================] - 1s 5ms/step - loss: 1.1508 - accuracy: 0.6670\n",
            "Epoch 73/160\n",
            "118/118 [==============================] - 1s 6ms/step - loss: 1.1406 - accuracy: 0.6704\n",
            "Epoch 74/160\n",
            "118/118 [==============================] - 1s 8ms/step - loss: 1.1306 - accuracy: 0.6744\n",
            "Epoch 75/160\n",
            "118/118 [==============================] - 1s 7ms/step - loss: 1.1208 - accuracy: 0.6778\n",
            "Epoch 76/160\n",
            "118/118 [==============================] - 1s 8ms/step - loss: 1.1110 - accuracy: 0.6823\n",
            "Epoch 77/160\n",
            "118/118 [==============================] - 1s 6ms/step - loss: 1.1015 - accuracy: 0.6856\n",
            "Epoch 78/160\n",
            "118/118 [==============================] - 1s 5ms/step - loss: 1.0921 - accuracy: 0.6899\n",
            "Epoch 79/160\n",
            "118/118 [==============================] - 1s 5ms/step - loss: 1.0828 - accuracy: 0.6940\n",
            "Epoch 80/160\n",
            "118/118 [==============================] - 1s 6ms/step - loss: 1.0736 - accuracy: 0.6971\n",
            "Epoch 81/160\n",
            "118/118 [==============================] - 1s 5ms/step - loss: 1.0646 - accuracy: 0.7016\n",
            "Epoch 82/160\n",
            "118/118 [==============================] - 1s 5ms/step - loss: 1.0558 - accuracy: 0.7049\n",
            "Epoch 83/160\n",
            "118/118 [==============================] - 1s 5ms/step - loss: 1.0470 - accuracy: 0.7079\n",
            "Epoch 84/160\n",
            "118/118 [==============================] - 1s 5ms/step - loss: 1.0384 - accuracy: 0.7112\n",
            "Epoch 85/160\n",
            "118/118 [==============================] - 1s 5ms/step - loss: 1.0299 - accuracy: 0.7138\n",
            "Epoch 86/160\n",
            "118/118 [==============================] - 1s 5ms/step - loss: 1.0215 - accuracy: 0.7173\n",
            "Epoch 87/160\n",
            "118/118 [==============================] - 1s 6ms/step - loss: 1.0133 - accuracy: 0.7207\n",
            "Epoch 88/160\n",
            "118/118 [==============================] - 1s 5ms/step - loss: 1.0051 - accuracy: 0.7229\n",
            "Epoch 89/160\n",
            "118/118 [==============================] - 1s 5ms/step - loss: 0.9971 - accuracy: 0.7263\n",
            "Epoch 90/160\n",
            "118/118 [==============================] - 1s 5ms/step - loss: 0.9892 - accuracy: 0.7298\n",
            "Epoch 91/160\n",
            "118/118 [==============================] - 1s 5ms/step - loss: 0.9814 - accuracy: 0.7318\n",
            "Epoch 92/160\n",
            "118/118 [==============================] - 1s 5ms/step - loss: 0.9737 - accuracy: 0.7349\n",
            "Epoch 93/160\n",
            "118/118 [==============================] - 1s 7ms/step - loss: 0.9662 - accuracy: 0.7379\n",
            "Epoch 94/160\n",
            "118/118 [==============================] - 1s 8ms/step - loss: 0.9587 - accuracy: 0.7403\n",
            "Epoch 95/160\n",
            "118/118 [==============================] - 1s 8ms/step - loss: 0.9513 - accuracy: 0.7434\n",
            "Epoch 96/160\n",
            "118/118 [==============================] - 1s 7ms/step - loss: 0.9441 - accuracy: 0.7452\n",
            "Epoch 97/160\n",
            "118/118 [==============================] - 1s 5ms/step - loss: 0.9369 - accuracy: 0.7483\n",
            "Epoch 98/160\n",
            "118/118 [==============================] - 1s 5ms/step - loss: 0.9299 - accuracy: 0.7508\n",
            "Epoch 99/160\n",
            "118/118 [==============================] - 1s 5ms/step - loss: 0.9229 - accuracy: 0.7527\n",
            "Epoch 100/160\n",
            "118/118 [==============================] - 1s 5ms/step - loss: 0.9161 - accuracy: 0.7551\n",
            "Epoch 101/160\n",
            "118/118 [==============================] - 1s 5ms/step - loss: 0.9093 - accuracy: 0.7579\n",
            "Epoch 102/160\n",
            "118/118 [==============================] - 1s 5ms/step - loss: 0.9027 - accuracy: 0.7605\n",
            "Epoch 103/160\n",
            "118/118 [==============================] - 1s 5ms/step - loss: 0.8961 - accuracy: 0.7626\n",
            "Epoch 104/160\n",
            "118/118 [==============================] - 1s 5ms/step - loss: 0.8897 - accuracy: 0.7640\n",
            "Epoch 105/160\n",
            "118/118 [==============================] - 1s 5ms/step - loss: 0.8833 - accuracy: 0.7667\n",
            "Epoch 106/160\n",
            "118/118 [==============================] - 1s 5ms/step - loss: 0.8771 - accuracy: 0.7685\n",
            "Epoch 107/160\n",
            "118/118 [==============================] - 1s 5ms/step - loss: 0.8709 - accuracy: 0.7707\n",
            "Epoch 108/160\n",
            "118/118 [==============================] - 1s 5ms/step - loss: 0.8648 - accuracy: 0.7729\n",
            "Epoch 109/160\n",
            "118/118 [==============================] - 1s 6ms/step - loss: 0.8588 - accuracy: 0.7750\n",
            "Epoch 110/160\n",
            "118/118 [==============================] - 1s 5ms/step - loss: 0.8529 - accuracy: 0.7768\n",
            "Epoch 111/160\n",
            "118/118 [==============================] - 1s 5ms/step - loss: 0.8470 - accuracy: 0.7789\n",
            "Epoch 112/160\n",
            "118/118 [==============================] - 1s 11ms/step - loss: 0.8413 - accuracy: 0.7805\n",
            "Epoch 113/160\n",
            "118/118 [==============================] - 1s 9ms/step - loss: 0.8356 - accuracy: 0.7829\n",
            "Epoch 114/160\n",
            "118/118 [==============================] - 1s 8ms/step - loss: 0.8300 - accuracy: 0.7840\n",
            "Epoch 115/160\n",
            "118/118 [==============================] - 1s 6ms/step - loss: 0.8245 - accuracy: 0.7868\n",
            "Epoch 116/160\n",
            "118/118 [==============================] - 1s 5ms/step - loss: 0.8191 - accuracy: 0.7884\n",
            "Epoch 117/160\n",
            "118/118 [==============================] - 1s 5ms/step - loss: 0.8137 - accuracy: 0.7895\n",
            "Epoch 118/160\n",
            "118/118 [==============================] - 1s 5ms/step - loss: 0.8084 - accuracy: 0.7910\n",
            "Epoch 119/160\n",
            "118/118 [==============================] - 1s 5ms/step - loss: 0.8032 - accuracy: 0.7927\n",
            "Epoch 120/160\n",
            "118/118 [==============================] - 1s 5ms/step - loss: 0.7981 - accuracy: 0.7945\n",
            "Epoch 121/160\n",
            "118/118 [==============================] - 1s 6ms/step - loss: 0.7930 - accuracy: 0.7963\n",
            "Epoch 122/160\n",
            "118/118 [==============================] - 1s 8ms/step - loss: 0.7880 - accuracy: 0.7974\n",
            "Epoch 123/160\n",
            "118/118 [==============================] - 1s 8ms/step - loss: 0.7831 - accuracy: 0.7986\n",
            "Epoch 124/160\n",
            "118/118 [==============================] - 1s 6ms/step - loss: 0.7782 - accuracy: 0.8004\n",
            "Epoch 125/160\n",
            "118/118 [==============================] - 1s 5ms/step - loss: 0.7734 - accuracy: 0.8014\n",
            "Epoch 126/160\n",
            "118/118 [==============================] - 1s 6ms/step - loss: 0.7687 - accuracy: 0.8029\n",
            "Epoch 127/160\n",
            "118/118 [==============================] - 1s 5ms/step - loss: 0.7640 - accuracy: 0.8040\n",
            "Epoch 128/160\n",
            "118/118 [==============================] - 1s 5ms/step - loss: 0.7594 - accuracy: 0.8054\n",
            "Epoch 129/160\n",
            "118/118 [==============================] - 1s 5ms/step - loss: 0.7548 - accuracy: 0.8072\n",
            "Epoch 130/160\n",
            "118/118 [==============================] - 1s 8ms/step - loss: 0.7503 - accuracy: 0.8080\n",
            "Epoch 131/160\n",
            "118/118 [==============================] - 1s 8ms/step - loss: 0.7459 - accuracy: 0.8096\n",
            "Epoch 132/160\n",
            "118/118 [==============================] - 1s 8ms/step - loss: 0.7415 - accuracy: 0.8109\n",
            "Epoch 133/160\n",
            "118/118 [==============================] - 1s 7ms/step - loss: 0.7371 - accuracy: 0.8122\n",
            "Epoch 134/160\n",
            "118/118 [==============================] - 1s 5ms/step - loss: 0.7329 - accuracy: 0.8130\n",
            "Epoch 135/160\n",
            "118/118 [==============================] - 1s 5ms/step - loss: 0.7286 - accuracy: 0.8147\n",
            "Epoch 136/160\n",
            "118/118 [==============================] - 1s 5ms/step - loss: 0.7245 - accuracy: 0.8162\n",
            "Epoch 137/160\n",
            "118/118 [==============================] - 1s 6ms/step - loss: 0.7203 - accuracy: 0.8174\n",
            "Epoch 138/160\n",
            "118/118 [==============================] - 1s 5ms/step - loss: 0.7163 - accuracy: 0.8181\n",
            "Epoch 139/160\n",
            "118/118 [==============================] - 1s 5ms/step - loss: 0.7122 - accuracy: 0.8194\n",
            "Epoch 140/160\n",
            "118/118 [==============================] - 1s 5ms/step - loss: 0.7083 - accuracy: 0.8201\n",
            "Epoch 141/160\n",
            "118/118 [==============================] - 1s 5ms/step - loss: 0.7043 - accuracy: 0.8213\n",
            "Epoch 142/160\n",
            "118/118 [==============================] - 1s 5ms/step - loss: 0.7004 - accuracy: 0.8222\n",
            "Epoch 143/160\n",
            "118/118 [==============================] - 1s 5ms/step - loss: 0.6966 - accuracy: 0.8231\n",
            "Epoch 144/160\n",
            "118/118 [==============================] - 1s 5ms/step - loss: 0.6928 - accuracy: 0.8242\n",
            "Epoch 145/160\n",
            "118/118 [==============================] - 1s 5ms/step - loss: 0.6891 - accuracy: 0.8254\n",
            "Epoch 146/160\n",
            "118/118 [==============================] - 1s 5ms/step - loss: 0.6853 - accuracy: 0.8263\n",
            "Epoch 147/160\n",
            "118/118 [==============================] - 1s 5ms/step - loss: 0.6817 - accuracy: 0.8271\n",
            "Epoch 148/160\n",
            "118/118 [==============================] - 1s 5ms/step - loss: 0.6781 - accuracy: 0.8283\n",
            "Epoch 149/160\n",
            "118/118 [==============================] - 1s 7ms/step - loss: 0.6745 - accuracy: 0.8295\n",
            "Epoch 150/160\n",
            "118/118 [==============================] - 1s 8ms/step - loss: 0.6709 - accuracy: 0.8300\n",
            "Epoch 151/160\n",
            "118/118 [==============================] - 1s 8ms/step - loss: 0.6674 - accuracy: 0.8314\n",
            "Epoch 152/160\n",
            "118/118 [==============================] - 1s 7ms/step - loss: 0.6639 - accuracy: 0.8325\n",
            "Epoch 153/160\n",
            "118/118 [==============================] - 1s 5ms/step - loss: 0.6605 - accuracy: 0.8335\n",
            "Epoch 154/160\n",
            "118/118 [==============================] - 1s 5ms/step - loss: 0.6571 - accuracy: 0.8342\n",
            "Epoch 155/160\n",
            "118/118 [==============================] - 1s 5ms/step - loss: 0.6538 - accuracy: 0.8352\n",
            "Epoch 156/160\n",
            "118/118 [==============================] - 1s 5ms/step - loss: 0.6505 - accuracy: 0.8360\n",
            "Epoch 157/160\n",
            "118/118 [==============================] - 1s 5ms/step - loss: 0.6472 - accuracy: 0.8370\n",
            "Epoch 158/160\n",
            "118/118 [==============================] - 1s 5ms/step - loss: 0.6439 - accuracy: 0.8380\n",
            "Epoch 159/160\n",
            "118/118 [==============================] - 1s 5ms/step - loss: 0.6407 - accuracy: 0.8390\n",
            "Epoch 160/160\n",
            "118/118 [==============================] - 1s 5ms/step - loss: 0.6375 - accuracy: 0.8399\n"
          ]
        },
        {
          "output_type": "execute_result",
          "data": {
            "text/plain": [
              "<keras.src.callbacks.History at 0x78e5da0e79d0>"
            ]
          },
          "metadata": {},
          "execution_count": 44
        }
      ]
    },
    {
      "cell_type": "code",
      "source": [
        "test_loss, test_acc = network.evaluate(test_images, test_labels)\n",
        "print('Test Accuracy: {:.5f} '.format(test_acc))\n",
        "test_acc"
      ],
      "metadata": {
        "colab": {
          "base_uri": "https://localhost:8080/"
        },
        "id": "qdWMV4ycmGSb",
        "outputId": "289ec3e3-e569-4621-e69c-3f96422c2fee"
      },
      "execution_count": 45,
      "outputs": [
        {
          "output_type": "stream",
          "name": "stdout",
          "text": [
            "313/313 [==============================] - 1s 2ms/step - loss: 0.6274 - accuracy: 0.8472\n",
            "Test Accuracy: 0.84720 \n"
          ]
        },
        {
          "output_type": "execute_result",
          "data": {
            "text/plain": [
              "0.8471999764442444"
            ]
          },
          "metadata": {},
          "execution_count": 45
        }
      ]
    },
    {
      "cell_type": "code",
      "source": [
        "from keras.utils import plot_model\n",
        "plot_model(network, to_file='model.png')\n",
        "import matplotlib.pyplot as plt\n",
        "history =network.fit(train_images, train_labels, validation_split=0.33,epochs=5, batch_size=512)\n",
        "history_dict = history.history\n",
        "print(history_dict.keys())\n",
        "plt.plot(history.history['accuracy'])\n",
        "plt.plot(history.history['val_accuracy'])\n",
        "plt.title('Model accuracy')\n",
        "plt.ylabel('Accuracy')\n",
        "plt.xlabel('Epoch')\n",
        "plt.legend(['Train', 'Test'], loc='upper left')\n",
        "plt.show()\n",
        "\n",
        "\n",
        "# Plot training & validation loss values\n",
        "plt.plot(history.history['loss'])\n",
        "plt.plot(history.history['val_loss'])\n",
        "plt.title('Model loss')\n",
        "plt.ylabel('Loss')\n",
        "plt.xlabel('Epoch')\n",
        "plt.legend(['Train', 'Test'], loc='upper left')\n",
        "plt.show()"
      ],
      "metadata": {
        "colab": {
          "base_uri": "https://localhost:8080/",
          "height": 1000
        },
        "id": "hfm5-yEWmU9Z",
        "outputId": "8ae58de6-73b6-49e3-d883-7bee6d75a912"
      },
      "execution_count": 46,
      "outputs": [
        {
          "output_type": "stream",
          "name": "stdout",
          "text": [
            "Epoch 1/5\n",
            "79/79 [==============================] - 1s 16ms/step - loss: 0.6403 - accuracy: 0.8394 - val_loss: 0.6229 - val_accuracy: 0.8436\n",
            "Epoch 2/5\n",
            "79/79 [==============================] - 1s 12ms/step - loss: 0.6382 - accuracy: 0.8398 - val_loss: 0.6209 - val_accuracy: 0.8439\n",
            "Epoch 3/5\n",
            "79/79 [==============================] - 1s 10ms/step - loss: 0.6361 - accuracy: 0.8404 - val_loss: 0.6189 - val_accuracy: 0.8447\n",
            "Epoch 4/5\n",
            "79/79 [==============================] - 1s 13ms/step - loss: 0.6340 - accuracy: 0.8411 - val_loss: 0.6169 - val_accuracy: 0.8454\n",
            "Epoch 5/5\n",
            "79/79 [==============================] - 1s 16ms/step - loss: 0.6319 - accuracy: 0.8420 - val_loss: 0.6150 - val_accuracy: 0.8459\n",
            "dict_keys(['loss', 'accuracy', 'val_loss', 'val_accuracy'])\n"
          ]
        },
        {
          "output_type": "display_data",
          "data": {
            "text/plain": [
              "<Figure size 640x480 with 1 Axes>"
            ],
            "image/png": "[encoded data removed]"
          },
          "metadata": {}
        },
        {
          "output_type": "display_data",
          "data": {
            "text/plain": [
              "<Figure size 640x480 with 1 Axes>"
            ],
            "image/png": "[encoded data removed]"
          },
          "metadata": {}
        }
      ]
    },
    {
      "cell_type": "code",
      "source": [],
      "metadata": {
        "id": "PdDRbaWJmRFp"
      },
      "execution_count": null,
      "outputs": []
    }
  ]
}